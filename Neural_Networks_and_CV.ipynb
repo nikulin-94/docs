{
  "nbformat": 4,
  "nbformat_minor": 0,
  "metadata": {
    "colab": {
      "name": " Neural_Networks_and_CV.ipynb",
      "provenance": [],
      "authorship_tag": "ABX9TyNPSXTPMScN5laauER/nwFF"
    },
    "kernelspec": {
      "name": "python3",
      "display_name": "Python 3"
    }
  },
  "cells": [
    {
      "cell_type": "code",
      "metadata": {
        "id": "GXItVmvKEyY5",
        "colab_type": "code",
        "colab": {}
      },
      "source": [
        "#import lib\n",
        "import torch\n",
        "import random\n",
        "import numpy as np"
      ],
      "execution_count": null,
      "outputs": []
    }
  ]
}